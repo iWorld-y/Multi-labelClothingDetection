{
 "cells": [
  {
   "cell_type": "code",
   "execution_count": 1,
   "id": "7ee8258d-056e-4656-b84a-669284c5c6b2",
   "metadata": {},
   "outputs": [
    {
     "name": "stdout",
     "output_type": "stream",
     "text": [
      "2.0.0+cu117\n",
      "True\n",
      "1\n",
      "8500\n",
      "11.7\n"
     ]
    }
   ],
   "source": [
    "#输入库\n",
    "import torch\n",
    "#查看版本\n",
    "print(torch.__version__)\n",
    "#查看gpu是否可用\n",
    "print(torch.cuda.is_available())\n",
    "#返回设备gpu个数\n",
    "print(torch.cuda.device_count())\n",
    "# 查看对应CUDA的版本号\n",
    "print(torch.backends.cudnn.version())\n",
    "print(torch.version.cuda)\n",
    "#退出python\n",
    "quit()"
   ]
  },
  {
   "cell_type": "code",
   "execution_count": null,
   "id": "92cd484a-72b8-4e68-a9c1-e82bbd3a0d6a",
   "metadata": {},
   "outputs": [],
   "source": []
  }
 ],
 "metadata": {
  "kernelspec": {
   "display_name": "Python 3 (ipykernel)",
   "language": "python",
   "name": "python3"
  },
  "language_info": {
   "codemirror_mode": {
    "name": "ipython",
    "version": 3
   },
   "file_extension": ".py",
   "mimetype": "text/x-python",
   "name": "python",
   "nbconvert_exporter": "python",
   "pygments_lexer": "ipython3",
   "version": "3.8.16"
  }
 },
 "nbformat": 4,
 "nbformat_minor": 5
}
